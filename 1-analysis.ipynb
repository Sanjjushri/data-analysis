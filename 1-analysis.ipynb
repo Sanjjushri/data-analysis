{
 "cells": [
  {
   "cell_type": "code",
   "execution_count": 3,
   "id": "ec5c323b-5ccf-4d15-9ff3-7929b2045c9c",
   "metadata": {},
   "outputs": [],
   "source": [
    "import pandas as pd\n",
    "from sklearn import preprocessing\n",
    "import seaborn as sns\n",
    "import prettymetrics\n",
    "from prettymetrics.supervised import LazyRegressor\n",
    "from sklearn.model_selection import train_test_split\n",
    "import matplotlib.pyplot as plt"
   ]
  },
  {
   "cell_type": "code",
   "execution_count": 4,
   "id": "ac557284-38fb-4494-9006-44d364477d1e",
   "metadata": {},
   "outputs": [],
   "source": [
    "df = pd.read_csv(\"train.csv\")"
   ]
  },
  {
   "cell_type": "code",
   "execution_count": 5,
   "id": "819141bb-aced-453b-872d-c238f32c1bc3",
   "metadata": {},
   "outputs": [
    {
     "data": {
      "text/html": [
       "<div>\n",
       "<style scoped>\n",
       "    .dataframe tbody tr th:only-of-type {\n",
       "        vertical-align: middle;\n",
       "    }\n",
       "\n",
       "    .dataframe tbody tr th {\n",
       "        vertical-align: top;\n",
       "    }\n",
       "\n",
       "    .dataframe thead th {\n",
       "        text-align: right;\n",
       "    }\n",
       "</style>\n",
       "<table border=\"1\" class=\"dataframe\">\n",
       "  <thead>\n",
       "    <tr style=\"text-align: right;\">\n",
       "      <th></th>\n",
       "      <th>Item_Identifier</th>\n",
       "      <th>Item_Weight</th>\n",
       "      <th>Item_Fat_Content</th>\n",
       "      <th>Item_Visibility</th>\n",
       "      <th>Item_Type</th>\n",
       "      <th>Item_MRP</th>\n",
       "      <th>Outlet_Identifier</th>\n",
       "      <th>Outlet_Establishment_Year</th>\n",
       "      <th>Outlet_Size</th>\n",
       "      <th>Outlet_Location_Type</th>\n",
       "      <th>Outlet_Type</th>\n",
       "      <th>Item_Outlet_Sales</th>\n",
       "    </tr>\n",
       "  </thead>\n",
       "  <tbody>\n",
       "    <tr>\n",
       "      <th>0</th>\n",
       "      <td>FDA15</td>\n",
       "      <td>9.30</td>\n",
       "      <td>Low Fat</td>\n",
       "      <td>0.02</td>\n",
       "      <td>Dairy</td>\n",
       "      <td>249.81</td>\n",
       "      <td>OUT049</td>\n",
       "      <td>1999</td>\n",
       "      <td>Medium</td>\n",
       "      <td>Tier 1</td>\n",
       "      <td>Supermarket Type1</td>\n",
       "      <td>3735.14</td>\n",
       "    </tr>\n",
       "    <tr>\n",
       "      <th>1</th>\n",
       "      <td>DRC01</td>\n",
       "      <td>5.92</td>\n",
       "      <td>Regular</td>\n",
       "      <td>0.02</td>\n",
       "      <td>Soft Drinks</td>\n",
       "      <td>48.27</td>\n",
       "      <td>OUT018</td>\n",
       "      <td>2009</td>\n",
       "      <td>Medium</td>\n",
       "      <td>Tier 3</td>\n",
       "      <td>Supermarket Type2</td>\n",
       "      <td>443.42</td>\n",
       "    </tr>\n",
       "    <tr>\n",
       "      <th>2</th>\n",
       "      <td>FDN15</td>\n",
       "      <td>17.50</td>\n",
       "      <td>Low Fat</td>\n",
       "      <td>0.02</td>\n",
       "      <td>Meat</td>\n",
       "      <td>141.62</td>\n",
       "      <td>OUT049</td>\n",
       "      <td>1999</td>\n",
       "      <td>Medium</td>\n",
       "      <td>Tier 1</td>\n",
       "      <td>Supermarket Type1</td>\n",
       "      <td>2097.27</td>\n",
       "    </tr>\n",
       "    <tr>\n",
       "      <th>3</th>\n",
       "      <td>FDX07</td>\n",
       "      <td>19.20</td>\n",
       "      <td>Regular</td>\n",
       "      <td>0.00</td>\n",
       "      <td>Fruits and Vegetables</td>\n",
       "      <td>182.09</td>\n",
       "      <td>OUT010</td>\n",
       "      <td>1998</td>\n",
       "      <td>NaN</td>\n",
       "      <td>Tier 3</td>\n",
       "      <td>Grocery Store</td>\n",
       "      <td>732.38</td>\n",
       "    </tr>\n",
       "    <tr>\n",
       "      <th>4</th>\n",
       "      <td>NCD19</td>\n",
       "      <td>8.93</td>\n",
       "      <td>Low Fat</td>\n",
       "      <td>0.00</td>\n",
       "      <td>Household</td>\n",
       "      <td>53.86</td>\n",
       "      <td>OUT013</td>\n",
       "      <td>1987</td>\n",
       "      <td>High</td>\n",
       "      <td>Tier 3</td>\n",
       "      <td>Supermarket Type1</td>\n",
       "      <td>994.71</td>\n",
       "    </tr>\n",
       "  </tbody>\n",
       "</table>\n",
       "</div>"
      ],
      "text/plain": [
       "  Item_Identifier  Item_Weight Item_Fat_Content  Item_Visibility  \\\n",
       "0           FDA15         9.30          Low Fat             0.02   \n",
       "1           DRC01         5.92          Regular             0.02   \n",
       "2           FDN15        17.50          Low Fat             0.02   \n",
       "3           FDX07        19.20          Regular             0.00   \n",
       "4           NCD19         8.93          Low Fat             0.00   \n",
       "\n",
       "               Item_Type  Item_MRP Outlet_Identifier  \\\n",
       "0                  Dairy    249.81            OUT049   \n",
       "1            Soft Drinks     48.27            OUT018   \n",
       "2                   Meat    141.62            OUT049   \n",
       "3  Fruits and Vegetables    182.09            OUT010   \n",
       "4              Household     53.86            OUT013   \n",
       "\n",
       "   Outlet_Establishment_Year Outlet_Size Outlet_Location_Type  \\\n",
       "0                       1999      Medium               Tier 1   \n",
       "1                       2009      Medium               Tier 3   \n",
       "2                       1999      Medium               Tier 1   \n",
       "3                       1998         NaN               Tier 3   \n",
       "4                       1987        High               Tier 3   \n",
       "\n",
       "         Outlet_Type  Item_Outlet_Sales  \n",
       "0  Supermarket Type1            3735.14  \n",
       "1  Supermarket Type2             443.42  \n",
       "2  Supermarket Type1            2097.27  \n",
       "3      Grocery Store             732.38  \n",
       "4  Supermarket Type1             994.71  "
      ]
     },
     "execution_count": 5,
     "metadata": {},
     "output_type": "execute_result"
    }
   ],
   "source": [
    "df.head()"
   ]
  },
  {
   "cell_type": "code",
   "execution_count": 6,
   "id": "05ee74c9-73a9-41a6-ba33-ee9db1a2c587",
   "metadata": {},
   "outputs": [
    {
     "data": {
      "text/plain": [
       "(8523, 12)"
      ]
     },
     "execution_count": 6,
     "metadata": {},
     "output_type": "execute_result"
    }
   ],
   "source": [
    "df.shape"
   ]
  },
  {
   "cell_type": "code",
   "execution_count": 7,
   "id": "55d4d1ae-4a13-435e-9e7f-3c885a98f882",
   "metadata": {},
   "outputs": [
    {
     "data": {
      "text/plain": [
       "Item_Identifier               object\n",
       "Item_Weight                  float64\n",
       "Item_Fat_Content              object\n",
       "Item_Visibility              float64\n",
       "Item_Type                     object\n",
       "Item_MRP                     float64\n",
       "Outlet_Identifier             object\n",
       "Outlet_Establishment_Year      int64\n",
       "Outlet_Size                   object\n",
       "Outlet_Location_Type          object\n",
       "Outlet_Type                   object\n",
       "Item_Outlet_Sales            float64\n",
       "dtype: object"
      ]
     },
     "execution_count": 7,
     "metadata": {},
     "output_type": "execute_result"
    }
   ],
   "source": [
    "df.dtypes"
   ]
  },
  {
   "cell_type": "code",
   "execution_count": 8,
   "id": "b65540e8-fb00-4134-94eb-50a8d7b449fc",
   "metadata": {},
   "outputs": [
    {
     "data": {
      "text/plain": [
       "Item_Identifier                 0\n",
       "Item_Weight                  1463\n",
       "Item_Fat_Content                0\n",
       "Item_Visibility                 0\n",
       "Item_Type                       0\n",
       "Item_MRP                        0\n",
       "Outlet_Identifier               0\n",
       "Outlet_Establishment_Year       0\n",
       "Outlet_Size                  2410\n",
       "Outlet_Location_Type            0\n",
       "Outlet_Type                     0\n",
       "Item_Outlet_Sales               0\n",
       "dtype: int64"
      ]
     },
     "execution_count": 8,
     "metadata": {},
     "output_type": "execute_result"
    }
   ],
   "source": [
    "df.isnull().sum()"
   ]
  },
  {
   "cell_type": "code",
   "execution_count": 9,
   "id": "1d15d513-6cf6-4756-b4cd-7062249fe9fa",
   "metadata": {},
   "outputs": [],
   "source": [
    "df[\"Item_Weight\"] = df[\"Item_Weight\"].fillna(df[\"Item_Weight\"].mean())"
   ]
  },
  {
   "cell_type": "code",
   "execution_count": 10,
   "id": "fda31b73-0491-4c65-9504-ed6fcd1c8736",
   "metadata": {},
   "outputs": [
    {
     "data": {
      "text/plain": [
       "0"
      ]
     },
     "execution_count": 10,
     "metadata": {},
     "output_type": "execute_result"
    }
   ],
   "source": [
    "df[\"Item_Weight\"].isnull().sum()"
   ]
  },
  {
   "cell_type": "code",
   "execution_count": 11,
   "id": "b8156e13-4d42-4f37-8faf-3d13210c76b7",
   "metadata": {},
   "outputs": [
    {
     "data": {
      "text/plain": [
       "Medium    2793\n",
       "Small     2388\n",
       "High       932\n",
       "Name: Outlet_Size, dtype: int64"
      ]
     },
     "execution_count": 11,
     "metadata": {},
     "output_type": "execute_result"
    }
   ],
   "source": [
    "df['Outlet_Size'].value_counts()"
   ]
  },
  {
   "cell_type": "code",
   "execution_count": 12,
   "id": "0b94e354-40a7-49bd-9071-61e0270eb8c6",
   "metadata": {},
   "outputs": [],
   "source": [
    "df[\"Outlet_Size\"] = df[\"Outlet_Size\"].fillna(df[\"Outlet_Size\"].value_counts().index[0])"
   ]
  },
  {
   "cell_type": "code",
   "execution_count": 13,
   "id": "8625b101-f097-4961-9196-841a252a2809",
   "metadata": {},
   "outputs": [
    {
     "data": {
      "text/plain": [
       "0"
      ]
     },
     "execution_count": 13,
     "metadata": {},
     "output_type": "execute_result"
    }
   ],
   "source": [
    "df[\"Outlet_Size\"].isnull().sum()"
   ]
  },
  {
   "cell_type": "code",
   "execution_count": 14,
   "id": "ea0c5adf-62ab-4764-939a-da454b60895f",
   "metadata": {},
   "outputs": [
    {
     "data": {
      "text/html": [
       "<div>\n",
       "<style scoped>\n",
       "    .dataframe tbody tr th:only-of-type {\n",
       "        vertical-align: middle;\n",
       "    }\n",
       "\n",
       "    .dataframe tbody tr th {\n",
       "        vertical-align: top;\n",
       "    }\n",
       "\n",
       "    .dataframe thead th {\n",
       "        text-align: right;\n",
       "    }\n",
       "</style>\n",
       "<table border=\"1\" class=\"dataframe\">\n",
       "  <thead>\n",
       "    <tr style=\"text-align: right;\">\n",
       "      <th></th>\n",
       "      <th>Item_Weight</th>\n",
       "      <th>Item_Visibility</th>\n",
       "      <th>Item_MRP</th>\n",
       "      <th>Outlet_Establishment_Year</th>\n",
       "      <th>Item_Outlet_Sales</th>\n",
       "    </tr>\n",
       "  </thead>\n",
       "  <tbody>\n",
       "    <tr>\n",
       "      <th>count</th>\n",
       "      <td>8523.00</td>\n",
       "      <td>8523.00</td>\n",
       "      <td>8523.00</td>\n",
       "      <td>8523.00</td>\n",
       "      <td>8523.00</td>\n",
       "    </tr>\n",
       "    <tr>\n",
       "      <th>mean</th>\n",
       "      <td>12.86</td>\n",
       "      <td>0.07</td>\n",
       "      <td>140.99</td>\n",
       "      <td>1997.83</td>\n",
       "      <td>2181.29</td>\n",
       "    </tr>\n",
       "    <tr>\n",
       "      <th>std</th>\n",
       "      <td>4.23</td>\n",
       "      <td>0.05</td>\n",
       "      <td>62.28</td>\n",
       "      <td>8.37</td>\n",
       "      <td>1706.50</td>\n",
       "    </tr>\n",
       "    <tr>\n",
       "      <th>min</th>\n",
       "      <td>4.55</td>\n",
       "      <td>0.00</td>\n",
       "      <td>31.29</td>\n",
       "      <td>1985.00</td>\n",
       "      <td>33.29</td>\n",
       "    </tr>\n",
       "    <tr>\n",
       "      <th>25%</th>\n",
       "      <td>9.31</td>\n",
       "      <td>0.03</td>\n",
       "      <td>93.83</td>\n",
       "      <td>1987.00</td>\n",
       "      <td>834.25</td>\n",
       "    </tr>\n",
       "    <tr>\n",
       "      <th>50%</th>\n",
       "      <td>12.86</td>\n",
       "      <td>0.05</td>\n",
       "      <td>143.01</td>\n",
       "      <td>1999.00</td>\n",
       "      <td>1794.33</td>\n",
       "    </tr>\n",
       "    <tr>\n",
       "      <th>75%</th>\n",
       "      <td>16.00</td>\n",
       "      <td>0.09</td>\n",
       "      <td>185.64</td>\n",
       "      <td>2004.00</td>\n",
       "      <td>3101.30</td>\n",
       "    </tr>\n",
       "    <tr>\n",
       "      <th>max</th>\n",
       "      <td>21.35</td>\n",
       "      <td>0.33</td>\n",
       "      <td>266.89</td>\n",
       "      <td>2009.00</td>\n",
       "      <td>13086.96</td>\n",
       "    </tr>\n",
       "  </tbody>\n",
       "</table>\n",
       "</div>"
      ],
      "text/plain": [
       "       Item_Weight  Item_Visibility  Item_MRP  Outlet_Establishment_Year  \\\n",
       "count      8523.00          8523.00   8523.00                    8523.00   \n",
       "mean         12.86             0.07    140.99                    1997.83   \n",
       "std           4.23             0.05     62.28                       8.37   \n",
       "min           4.55             0.00     31.29                    1985.00   \n",
       "25%           9.31             0.03     93.83                    1987.00   \n",
       "50%          12.86             0.05    143.01                    1999.00   \n",
       "75%          16.00             0.09    185.64                    2004.00   \n",
       "max          21.35             0.33    266.89                    2009.00   \n",
       "\n",
       "       Item_Outlet_Sales  \n",
       "count            8523.00  \n",
       "mean             2181.29  \n",
       "std              1706.50  \n",
       "min                33.29  \n",
       "25%               834.25  \n",
       "50%              1794.33  \n",
       "75%              3101.30  \n",
       "max             13086.96  "
      ]
     },
     "execution_count": 14,
     "metadata": {},
     "output_type": "execute_result"
    }
   ],
   "source": [
    "df.describe()"
   ]
  },
  {
   "cell_type": "code",
   "execution_count": 15,
   "id": "aef851af-723f-4123-a5b2-38ccc839f8d5",
   "metadata": {},
   "outputs": [
    {
     "data": {
      "text/html": [
       "<div>\n",
       "<style scoped>\n",
       "    .dataframe tbody tr th:only-of-type {\n",
       "        vertical-align: middle;\n",
       "    }\n",
       "\n",
       "    .dataframe tbody tr th {\n",
       "        vertical-align: top;\n",
       "    }\n",
       "\n",
       "    .dataframe thead th {\n",
       "        text-align: right;\n",
       "    }\n",
       "</style>\n",
       "<table border=\"1\" class=\"dataframe\">\n",
       "  <thead>\n",
       "    <tr style=\"text-align: right;\">\n",
       "      <th></th>\n",
       "      <th>Item_Identifier</th>\n",
       "      <th>Item_Weight</th>\n",
       "      <th>Item_Fat_Content</th>\n",
       "      <th>Item_Visibility</th>\n",
       "      <th>Item_Type</th>\n",
       "      <th>Item_MRP</th>\n",
       "      <th>Outlet_Identifier</th>\n",
       "      <th>Outlet_Establishment_Year</th>\n",
       "      <th>Outlet_Size</th>\n",
       "      <th>Outlet_Location_Type</th>\n",
       "      <th>Outlet_Type</th>\n",
       "      <th>Item_Outlet_Sales</th>\n",
       "    </tr>\n",
       "  </thead>\n",
       "  <tbody>\n",
       "    <tr>\n",
       "      <th>0</th>\n",
       "      <td>FDA15</td>\n",
       "      <td>9.30</td>\n",
       "      <td>Low Fat</td>\n",
       "      <td>0.02</td>\n",
       "      <td>Dairy</td>\n",
       "      <td>249.81</td>\n",
       "      <td>OUT049</td>\n",
       "      <td>1999</td>\n",
       "      <td>Medium</td>\n",
       "      <td>Tier 1</td>\n",
       "      <td>Supermarket Type1</td>\n",
       "      <td>3735.14</td>\n",
       "    </tr>\n",
       "    <tr>\n",
       "      <th>1</th>\n",
       "      <td>DRC01</td>\n",
       "      <td>5.92</td>\n",
       "      <td>Regular</td>\n",
       "      <td>0.02</td>\n",
       "      <td>Soft Drinks</td>\n",
       "      <td>48.27</td>\n",
       "      <td>OUT018</td>\n",
       "      <td>2009</td>\n",
       "      <td>Medium</td>\n",
       "      <td>Tier 3</td>\n",
       "      <td>Supermarket Type2</td>\n",
       "      <td>443.42</td>\n",
       "    </tr>\n",
       "    <tr>\n",
       "      <th>2</th>\n",
       "      <td>FDN15</td>\n",
       "      <td>17.50</td>\n",
       "      <td>Low Fat</td>\n",
       "      <td>0.02</td>\n",
       "      <td>Meat</td>\n",
       "      <td>141.62</td>\n",
       "      <td>OUT049</td>\n",
       "      <td>1999</td>\n",
       "      <td>Medium</td>\n",
       "      <td>Tier 1</td>\n",
       "      <td>Supermarket Type1</td>\n",
       "      <td>2097.27</td>\n",
       "    </tr>\n",
       "    <tr>\n",
       "      <th>3</th>\n",
       "      <td>FDX07</td>\n",
       "      <td>19.20</td>\n",
       "      <td>Regular</td>\n",
       "      <td>0.00</td>\n",
       "      <td>Fruits and Vegetables</td>\n",
       "      <td>182.09</td>\n",
       "      <td>OUT010</td>\n",
       "      <td>1998</td>\n",
       "      <td>Medium</td>\n",
       "      <td>Tier 3</td>\n",
       "      <td>Grocery Store</td>\n",
       "      <td>732.38</td>\n",
       "    </tr>\n",
       "    <tr>\n",
       "      <th>4</th>\n",
       "      <td>NCD19</td>\n",
       "      <td>8.93</td>\n",
       "      <td>Low Fat</td>\n",
       "      <td>0.00</td>\n",
       "      <td>Household</td>\n",
       "      <td>53.86</td>\n",
       "      <td>OUT013</td>\n",
       "      <td>1987</td>\n",
       "      <td>High</td>\n",
       "      <td>Tier 3</td>\n",
       "      <td>Supermarket Type1</td>\n",
       "      <td>994.71</td>\n",
       "    </tr>\n",
       "  </tbody>\n",
       "</table>\n",
       "</div>"
      ],
      "text/plain": [
       "  Item_Identifier  Item_Weight Item_Fat_Content  Item_Visibility  \\\n",
       "0           FDA15         9.30          Low Fat             0.02   \n",
       "1           DRC01         5.92          Regular             0.02   \n",
       "2           FDN15        17.50          Low Fat             0.02   \n",
       "3           FDX07        19.20          Regular             0.00   \n",
       "4           NCD19         8.93          Low Fat             0.00   \n",
       "\n",
       "               Item_Type  Item_MRP Outlet_Identifier  \\\n",
       "0                  Dairy    249.81            OUT049   \n",
       "1            Soft Drinks     48.27            OUT018   \n",
       "2                   Meat    141.62            OUT049   \n",
       "3  Fruits and Vegetables    182.09            OUT010   \n",
       "4              Household     53.86            OUT013   \n",
       "\n",
       "   Outlet_Establishment_Year Outlet_Size Outlet_Location_Type  \\\n",
       "0                       1999      Medium               Tier 1   \n",
       "1                       2009      Medium               Tier 3   \n",
       "2                       1999      Medium               Tier 1   \n",
       "3                       1998      Medium               Tier 3   \n",
       "4                       1987        High               Tier 3   \n",
       "\n",
       "         Outlet_Type  Item_Outlet_Sales  \n",
       "0  Supermarket Type1            3735.14  \n",
       "1  Supermarket Type2             443.42  \n",
       "2  Supermarket Type1            2097.27  \n",
       "3      Grocery Store             732.38  \n",
       "4  Supermarket Type1             994.71  "
      ]
     },
     "execution_count": 15,
     "metadata": {},
     "output_type": "execute_result"
    }
   ],
   "source": [
    "df.head()"
   ]
  },
  {
   "cell_type": "code",
   "execution_count": 16,
   "id": "a8f359e2-a5a8-41c1-a38c-0406d1c9322e",
   "metadata": {},
   "outputs": [
    {
     "data": {
      "text/plain": [
       "<AxesSubplot:xlabel='Outlet_Location_Type', ylabel='count'>"
      ]
     },
     "execution_count": 16,
     "metadata": {},
     "output_type": "execute_result"
    },
    {
     "data": {
      "image/png": "[encoded data removed]",
      "text/plain": [
       "<Figure size 432x288 with 1 Axes>"
      ]
     },
     "metadata": {
      "needs_background": "light"
     },
     "output_type": "display_data"
    }
   ],
   "source": [
    "sns.countplot(df.Outlet_Location_Type)"
   ]
  },
  {
   "cell_type": "code",
   "execution_count": 17,
   "id": "a71e7fa7-1bfd-46a5-9512-a08cf879de7d",
   "metadata": {},
   "outputs": [
    {
     "data": {
      "text/plain": [
       "<AxesSubplot:xlabel='Item_Weight'>"
      ]
     },
     "execution_count": 17,
     "metadata": {},
     "output_type": "execute_result"
    },
    {
     "data": {
      "image/png": "[encoded data removed]",
      "text/plain": [
       "<Figure size 432x288 with 1 Axes>"
      ]
     },
     "metadata": {
      "needs_background": "light"
     },
     "output_type": "display_data"
    }
   ],
   "source": [
    "sns.boxplot(df['Item_Weight'])"
   ]
  },
  {
   "cell_type": "code",
   "execution_count": 18,
   "id": "a782b341-4a9c-4508-9844-ce809071ec13",
   "metadata": {},
   "outputs": [
    {
     "data": {
      "text/plain": [
       "<AxesSubplot:xlabel='Outlet_Type', ylabel='count'>"
      ]
     },
     "execution_count": 18,
     "metadata": {},
     "output_type": "execute_result"
    },
    {
     "data": {
      "image/png": "[encoded data removed]",
      "text/plain": [
       "<Figure size 720x576 with 1 Axes>"
      ]
     },
     "metadata": {
      "needs_background": "light"
     },
     "output_type": "display_data"
    }
   ],
   "source": [
    "plt.figure(figsize=(10,8))\n",
    "sns.countplot(df.Outlet_Type)"
   ]
  },
  {
   "cell_type": "code",
   "execution_count": 19,
   "id": "c4045fc2-4731-4ee0-9cd5-6c5bb409e7d1",
   "metadata": {},
   "outputs": [
    {
     "data": {
      "text/plain": [
       "Item_Identifier              1559\n",
       "Item_Weight                   416\n",
       "Item_Fat_Content                5\n",
       "Item_Visibility              7880\n",
       "Item_Type                      16\n",
       "Item_MRP                     5938\n",
       "Outlet_Identifier              10\n",
       "Outlet_Establishment_Year       9\n",
       "Outlet_Size                     3\n",
       "Outlet_Location_Type            3\n",
       "Outlet_Type                     4\n",
       "Item_Outlet_Sales            3493\n",
       "dtype: int64"
      ]
     },
     "execution_count": 19,
     "metadata": {},
     "output_type": "execute_result"
    }
   ],
   "source": [
    "df.apply(lambda x: len(x.unique()))"
   ]
  },
  {
   "cell_type": "code",
   "execution_count": 20,
   "id": "7f5e089e-886e-4aca-b174-24d65bfd77aa",
   "metadata": {},
   "outputs": [],
   "source": [
    "le = preprocessing.LabelEncoder()"
   ]
  },
  {
   "cell_type": "code",
   "execution_count": 21,
   "id": "a6cc3c02-4c9d-4fbb-9e4b-1feed330003c",
   "metadata": {},
   "outputs": [],
   "source": [
    "label = [\"Item_Identifier\", \"Item_Fat_Content\", \"Item_Type\", \"Outlet_Identifier\", \"Outlet_Establishment_Year\", \"Outlet_Size\", \"Outlet_Location_Type\", \"Outlet_Type\"]"
   ]
  },
  {
   "cell_type": "code",
   "execution_count": 22,
   "id": "16ba67a2-4355-419e-b1b7-9df132279acc",
   "metadata": {},
   "outputs": [],
   "source": [
    "for col in label:\n",
    "    df[col] = le.fit_transform(df[col])"
   ]
  },
  {
   "cell_type": "code",
   "execution_count": 23,
   "id": "cd334f28-2e15-4445-bb01-db5f4cbaa3f8",
   "metadata": {},
   "outputs": [
    {
     "data": {
      "text/html": [
       "<div>\n",
       "<style scoped>\n",
       "    .dataframe tbody tr th:only-of-type {\n",
       "        vertical-align: middle;\n",
       "    }\n",
       "\n",
       "    .dataframe tbody tr th {\n",
       "        vertical-align: top;\n",
       "    }\n",
       "\n",
       "    .dataframe thead th {\n",
       "        text-align: right;\n",
       "    }\n",
       "</style>\n",
       "<table border=\"1\" class=\"dataframe\">\n",
       "  <thead>\n",
       "    <tr style=\"text-align: right;\">\n",
       "      <th></th>\n",
       "      <th>Item_Identifier</th>\n",
       "      <th>Item_Weight</th>\n",
       "      <th>Item_Fat_Content</th>\n",
       "      <th>Item_Visibility</th>\n",
       "      <th>Item_Type</th>\n",
       "      <th>Item_MRP</th>\n",
       "      <th>Outlet_Identifier</th>\n",
       "      <th>Outlet_Establishment_Year</th>\n",
       "      <th>Outlet_Size</th>\n",
       "      <th>Outlet_Location_Type</th>\n",
       "      <th>Outlet_Type</th>\n",
       "      <th>Item_Outlet_Sales</th>\n",
       "    </tr>\n",
       "  </thead>\n",
       "  <tbody>\n",
       "    <tr>\n",
       "      <th>0</th>\n",
       "      <td>156</td>\n",
       "      <td>9.30</td>\n",
       "      <td>1</td>\n",
       "      <td>0.02</td>\n",
       "      <td>4</td>\n",
       "      <td>249.81</td>\n",
       "      <td>9</td>\n",
       "      <td>4</td>\n",
       "      <td>1</td>\n",
       "      <td>0</td>\n",
       "      <td>1</td>\n",
       "      <td>3735.14</td>\n",
       "    </tr>\n",
       "    <tr>\n",
       "      <th>1</th>\n",
       "      <td>8</td>\n",
       "      <td>5.92</td>\n",
       "      <td>2</td>\n",
       "      <td>0.02</td>\n",
       "      <td>14</td>\n",
       "      <td>48.27</td>\n",
       "      <td>3</td>\n",
       "      <td>8</td>\n",
       "      <td>1</td>\n",
       "      <td>2</td>\n",
       "      <td>2</td>\n",
       "      <td>443.42</td>\n",
       "    </tr>\n",
       "    <tr>\n",
       "      <th>2</th>\n",
       "      <td>662</td>\n",
       "      <td>17.50</td>\n",
       "      <td>1</td>\n",
       "      <td>0.02</td>\n",
       "      <td>10</td>\n",
       "      <td>141.62</td>\n",
       "      <td>9</td>\n",
       "      <td>4</td>\n",
       "      <td>1</td>\n",
       "      <td>0</td>\n",
       "      <td>1</td>\n",
       "      <td>2097.27</td>\n",
       "    </tr>\n",
       "    <tr>\n",
       "      <th>3</th>\n",
       "      <td>1121</td>\n",
       "      <td>19.20</td>\n",
       "      <td>2</td>\n",
       "      <td>0.00</td>\n",
       "      <td>6</td>\n",
       "      <td>182.09</td>\n",
       "      <td>0</td>\n",
       "      <td>3</td>\n",
       "      <td>1</td>\n",
       "      <td>2</td>\n",
       "      <td>0</td>\n",
       "      <td>732.38</td>\n",
       "    </tr>\n",
       "    <tr>\n",
       "      <th>4</th>\n",
       "      <td>1297</td>\n",
       "      <td>8.93</td>\n",
       "      <td>1</td>\n",
       "      <td>0.00</td>\n",
       "      <td>9</td>\n",
       "      <td>53.86</td>\n",
       "      <td>1</td>\n",
       "      <td>1</td>\n",
       "      <td>0</td>\n",
       "      <td>2</td>\n",
       "      <td>1</td>\n",
       "      <td>994.71</td>\n",
       "    </tr>\n",
       "  </tbody>\n",
       "</table>\n",
       "</div>"
      ],
      "text/plain": [
       "   Item_Identifier  Item_Weight  Item_Fat_Content  Item_Visibility  Item_Type  \\\n",
       "0              156         9.30                 1             0.02          4   \n",
       "1                8         5.92                 2             0.02         14   \n",
       "2              662        17.50                 1             0.02         10   \n",
       "3             1121        19.20                 2             0.00          6   \n",
       "4             1297         8.93                 1             0.00          9   \n",
       "\n",
       "   Item_MRP  Outlet_Identifier  Outlet_Establishment_Year  Outlet_Size  \\\n",
       "0    249.81                  9                          4            1   \n",
       "1     48.27                  3                          8            1   \n",
       "2    141.62                  9                          4            1   \n",
       "3    182.09                  0                          3            1   \n",
       "4     53.86                  1                          1            0   \n",
       "\n",
       "   Outlet_Location_Type  Outlet_Type  Item_Outlet_Sales  \n",
       "0                     0            1            3735.14  \n",
       "1                     2            2             443.42  \n",
       "2                     0            1            2097.27  \n",
       "3                     2            0             732.38  \n",
       "4                     2            1             994.71  "
      ]
     },
     "execution_count": 23,
     "metadata": {},
     "output_type": "execute_result"
    }
   ],
   "source": [
    "df.head()"
   ]
  },
  {
   "cell_type": "code",
   "execution_count": 24,
   "id": "6182ebd1-2936-4247-92c4-e01d562266cd",
   "metadata": {},
   "outputs": [
    {
     "name": "stdout",
     "output_type": "stream",
     "text": [
      "[ 156    8  662 ... 1323 1524 1519]\n",
      "[1 2 3 0 4]\n",
      "[ 4 14 10  6  9  0 13  5  2  8  7  3  1 15 11 12]\n",
      "[9 3 0 1 5 7 2 8 6 4]\n",
      "[4 8 3 1 0 5 7 2 6]\n",
      "[1 0 2]\n",
      "[0 2 1]\n",
      "[1 2 0 3]\n"
     ]
    }
   ],
   "source": [
    "for col in label:\n",
    "  print(df[col].unique())"
   ]
  },
  {
   "cell_type": "code",
   "execution_count": 25,
   "id": "b12329c4-7575-4341-8e88-565ffd9940b0",
   "metadata": {},
   "outputs": [],
   "source": [
    "X = df.drop([\"Item_Outlet_Sales\"], axis = 1)\n",
    "y = df[\"Item_Outlet_Sales\"]"
   ]
  },
  {
   "cell_type": "code",
   "execution_count": 26,
   "id": "b1443629-65df-439d-a04f-f1132213d936",
   "metadata": {},
   "outputs": [],
   "source": [
    "X_train, X_test, y_train, y_test = train_test_split(X, y,test_size=.2,random_state =123)"
   ]
  },
  {
   "cell_type": "code",
   "execution_count": 27,
   "id": "81c79331-c935-492b-bb22-56ef9d914b13",
   "metadata": {},
   "outputs": [
    {
     "name": "stderr",
     "output_type": "stream",
     "text": [
      "100%|██████████████████████████████████████████████████████████████████████████████████████████████████████████████████████████████████████████████████████████████████████████████| 56/56 [00:27<00:00,  2.05it/s]\n"
     ]
    }
   ],
   "source": [
    "reg = LazyRegressor(verbose=0,ignore_warnings=True, custom_metric=None)\n",
    "models,predictions = reg.fit(X_train, X_test, y_train, y_test)"
   ]
  },
  {
   "cell_type": "code",
   "execution_count": 28,
   "id": "5d34c959-6e1e-4f09-866b-fb859efea6fc",
   "metadata": {},
   "outputs": [
    {
     "data": {
      "text/html": [
       "<div>\n",
       "<style scoped>\n",
       "    .dataframe tbody tr th:only-of-type {\n",
       "        vertical-align: middle;\n",
       "    }\n",
       "\n",
       "    .dataframe tbody tr th {\n",
       "        vertical-align: top;\n",
       "    }\n",
       "\n",
       "    .dataframe thead th {\n",
       "        text-align: right;\n",
       "    }\n",
       "</style>\n",
       "<table border=\"1\" class=\"dataframe\">\n",
       "  <thead>\n",
       "    <tr style=\"text-align: right;\">\n",
       "      <th></th>\n",
       "      <th>Adjusted R-Squared</th>\n",
       "      <th>R-Squared</th>\n",
       "      <th>RMSE</th>\n",
       "      <th>Time Taken</th>\n",
       "    </tr>\n",
       "    <tr>\n",
       "      <th>Model</th>\n",
       "      <th></th>\n",
       "      <th></th>\n",
       "      <th></th>\n",
       "      <th></th>\n",
       "    </tr>\n",
       "  </thead>\n",
       "  <tbody>\n",
       "    <tr>\n",
       "      <th>GradientBoostingRegressor</th>\n",
       "      <td>0.60</td>\n",
       "      <td>0.60</td>\n",
       "      <td>1069.83</td>\n",
       "      <td>0.82</td>\n",
       "    </tr>\n",
       "    <tr>\n",
       "      <th>HistGradientBoostingRegressor</th>\n",
       "      <td>0.57</td>\n",
       "      <td>0.58</td>\n",
       "      <td>1102.05</td>\n",
       "      <td>0.29</td>\n",
       "    </tr>\n",
       "    <tr>\n",
       "      <th>LGBMRegressor</th>\n",
       "      <td>0.57</td>\n",
       "      <td>0.57</td>\n",
       "      <td>1104.08</td>\n",
       "      <td>0.08</td>\n",
       "    </tr>\n",
       "    <tr>\n",
       "      <th>MLPRegressor</th>\n",
       "      <td>0.57</td>\n",
       "      <td>0.57</td>\n",
       "      <td>1105.90</td>\n",
       "      <td>5.73</td>\n",
       "    </tr>\n",
       "    <tr>\n",
       "      <th>RandomForestRegressor</th>\n",
       "      <td>0.54</td>\n",
       "      <td>0.54</td>\n",
       "      <td>1142.09</td>\n",
       "      <td>2.44</td>\n",
       "    </tr>\n",
       "    <tr>\n",
       "      <th>ExtraTreesRegressor</th>\n",
       "      <td>0.54</td>\n",
       "      <td>0.54</td>\n",
       "      <td>1145.53</td>\n",
       "      <td>1.35</td>\n",
       "    </tr>\n",
       "    <tr>\n",
       "      <th>XGBRegressor</th>\n",
       "      <td>0.52</td>\n",
       "      <td>0.53</td>\n",
       "      <td>1165.97</td>\n",
       "      <td>0.40</td>\n",
       "    </tr>\n",
       "    <tr>\n",
       "      <th>KNeighborsRegressor</th>\n",
       "      <td>0.52</td>\n",
       "      <td>0.52</td>\n",
       "      <td>1167.79</td>\n",
       "      <td>0.14</td>\n",
       "    </tr>\n",
       "    <tr>\n",
       "      <th>ARDRegression</th>\n",
       "      <td>0.52</td>\n",
       "      <td>0.52</td>\n",
       "      <td>1168.93</td>\n",
       "      <td>0.15</td>\n",
       "    </tr>\n",
       "    <tr>\n",
       "      <th>BayesianRidge</th>\n",
       "      <td>0.52</td>\n",
       "      <td>0.52</td>\n",
       "      <td>1169.15</td>\n",
       "      <td>0.04</td>\n",
       "    </tr>\n",
       "    <tr>\n",
       "      <th>RidgeCV</th>\n",
       "      <td>0.52</td>\n",
       "      <td>0.52</td>\n",
       "      <td>1169.15</td>\n",
       "      <td>0.06</td>\n",
       "    </tr>\n",
       "    <tr>\n",
       "      <th>Lasso</th>\n",
       "      <td>0.52</td>\n",
       "      <td>0.52</td>\n",
       "      <td>1169.15</td>\n",
       "      <td>0.05</td>\n",
       "    </tr>\n",
       "    <tr>\n",
       "      <th>LassoLarsIC</th>\n",
       "      <td>0.52</td>\n",
       "      <td>0.52</td>\n",
       "      <td>1169.16</td>\n",
       "      <td>0.04</td>\n",
       "    </tr>\n",
       "    <tr>\n",
       "      <th>Ridge</th>\n",
       "      <td>0.52</td>\n",
       "      <td>0.52</td>\n",
       "      <td>1169.17</td>\n",
       "      <td>0.01</td>\n",
       "    </tr>\n",
       "    <tr>\n",
       "      <th>TransformedTargetRegressor</th>\n",
       "      <td>0.52</td>\n",
       "      <td>0.52</td>\n",
       "      <td>1169.18</td>\n",
       "      <td>0.02</td>\n",
       "    </tr>\n",
       "    <tr>\n",
       "      <th>LinearRegression</th>\n",
       "      <td>0.52</td>\n",
       "      <td>0.52</td>\n",
       "      <td>1169.18</td>\n",
       "      <td>0.03</td>\n",
       "    </tr>\n",
       "    <tr>\n",
       "      <th>Lars</th>\n",
       "      <td>0.52</td>\n",
       "      <td>0.52</td>\n",
       "      <td>1169.18</td>\n",
       "      <td>0.03</td>\n",
       "    </tr>\n",
       "    <tr>\n",
       "      <th>LassoCV</th>\n",
       "      <td>0.52</td>\n",
       "      <td>0.52</td>\n",
       "      <td>1169.25</td>\n",
       "      <td>0.25</td>\n",
       "    </tr>\n",
       "    <tr>\n",
       "      <th>LassoLarsCV</th>\n",
       "      <td>0.52</td>\n",
       "      <td>0.52</td>\n",
       "      <td>1169.35</td>\n",
       "      <td>0.13</td>\n",
       "    </tr>\n",
       "    <tr>\n",
       "      <th>LarsCV</th>\n",
       "      <td>0.52</td>\n",
       "      <td>0.52</td>\n",
       "      <td>1169.35</td>\n",
       "      <td>0.06</td>\n",
       "    </tr>\n",
       "    <tr>\n",
       "      <th>OrthogonalMatchingPursuitCV</th>\n",
       "      <td>0.52</td>\n",
       "      <td>0.52</td>\n",
       "      <td>1171.34</td>\n",
       "      <td>0.03</td>\n",
       "    </tr>\n",
       "    <tr>\n",
       "      <th>SGDRegressor</th>\n",
       "      <td>0.52</td>\n",
       "      <td>0.52</td>\n",
       "      <td>1171.48</td>\n",
       "      <td>0.07</td>\n",
       "    </tr>\n",
       "    <tr>\n",
       "      <th>HuberRegressor</th>\n",
       "      <td>0.52</td>\n",
       "      <td>0.52</td>\n",
       "      <td>1172.50</td>\n",
       "      <td>0.06</td>\n",
       "    </tr>\n",
       "    <tr>\n",
       "      <th>PLSRegression</th>\n",
       "      <td>0.52</td>\n",
       "      <td>0.52</td>\n",
       "      <td>1174.31</td>\n",
       "      <td>0.02</td>\n",
       "    </tr>\n",
       "    <tr>\n",
       "      <th>TheilSenRegressor</th>\n",
       "      <td>0.51</td>\n",
       "      <td>0.52</td>\n",
       "      <td>1175.76</td>\n",
       "      <td>1.55</td>\n",
       "    </tr>\n",
       "    <tr>\n",
       "      <th>PassiveAggressiveRegressor</th>\n",
       "      <td>0.51</td>\n",
       "      <td>0.51</td>\n",
       "      <td>1185.64</td>\n",
       "      <td>0.04</td>\n",
       "    </tr>\n",
       "    <tr>\n",
       "      <th>LassoLars</th>\n",
       "      <td>0.50</td>\n",
       "      <td>0.50</td>\n",
       "      <td>1190.89</td>\n",
       "      <td>0.05</td>\n",
       "    </tr>\n",
       "    <tr>\n",
       "      <th>BaggingRegressor</th>\n",
       "      <td>0.50</td>\n",
       "      <td>0.50</td>\n",
       "      <td>1197.55</td>\n",
       "      <td>0.25</td>\n",
       "    </tr>\n",
       "    <tr>\n",
       "      <th>PoissonRegressor</th>\n",
       "      <td>0.49</td>\n",
       "      <td>0.50</td>\n",
       "      <td>1200.42</td>\n",
       "      <td>0.05</td>\n",
       "    </tr>\n",
       "    <tr>\n",
       "      <th>ElasticNet</th>\n",
       "      <td>0.46</td>\n",
       "      <td>0.47</td>\n",
       "      <td>1234.70</td>\n",
       "      <td>0.04</td>\n",
       "    </tr>\n",
       "    <tr>\n",
       "      <th>CCA</th>\n",
       "      <td>0.44</td>\n",
       "      <td>0.44</td>\n",
       "      <td>1263.43</td>\n",
       "      <td>0.02</td>\n",
       "    </tr>\n",
       "    <tr>\n",
       "      <th>AdaBoostRegressor</th>\n",
       "      <td>0.44</td>\n",
       "      <td>0.44</td>\n",
       "      <td>1265.41</td>\n",
       "      <td>0.31</td>\n",
       "    </tr>\n",
       "    <tr>\n",
       "      <th>GammaRegressor</th>\n",
       "      <td>0.40</td>\n",
       "      <td>0.40</td>\n",
       "      <td>1308.53</td>\n",
       "      <td>0.02</td>\n",
       "    </tr>\n",
       "    <tr>\n",
       "      <th>ElasticNetCV</th>\n",
       "      <td>0.40</td>\n",
       "      <td>0.40</td>\n",
       "      <td>1309.79</td>\n",
       "      <td>0.15</td>\n",
       "    </tr>\n",
       "    <tr>\n",
       "      <th>TweedieRegressor</th>\n",
       "      <td>0.39</td>\n",
       "      <td>0.40</td>\n",
       "      <td>1312.55</td>\n",
       "      <td>0.02</td>\n",
       "    </tr>\n",
       "    <tr>\n",
       "      <th>RANSACRegressor</th>\n",
       "      <td>0.39</td>\n",
       "      <td>0.39</td>\n",
       "      <td>1320.53</td>\n",
       "      <td>0.13</td>\n",
       "    </tr>\n",
       "    <tr>\n",
       "      <th>LinearSVR</th>\n",
       "      <td>0.37</td>\n",
       "      <td>0.38</td>\n",
       "      <td>1336.26</td>\n",
       "      <td>0.05</td>\n",
       "    </tr>\n",
       "    <tr>\n",
       "      <th>PLSCanonical</th>\n",
       "      <td>0.36</td>\n",
       "      <td>0.37</td>\n",
       "      <td>1344.00</td>\n",
       "      <td>0.02</td>\n",
       "    </tr>\n",
       "    <tr>\n",
       "      <th>OrthogonalMatchingPursuit</th>\n",
       "      <td>0.30</td>\n",
       "      <td>0.30</td>\n",
       "      <td>1412.02</td>\n",
       "      <td>0.01</td>\n",
       "    </tr>\n",
       "    <tr>\n",
       "      <th>DecisionTreeRegressor</th>\n",
       "      <td>0.20</td>\n",
       "      <td>0.20</td>\n",
       "      <td>1510.73</td>\n",
       "      <td>0.08</td>\n",
       "    </tr>\n",
       "    <tr>\n",
       "      <th>ExtraTreeRegressor</th>\n",
       "      <td>0.16</td>\n",
       "      <td>0.16</td>\n",
       "      <td>1547.46</td>\n",
       "      <td>0.05</td>\n",
       "    </tr>\n",
       "    <tr>\n",
       "      <th>NuSVR</th>\n",
       "      <td>0.07</td>\n",
       "      <td>0.07</td>\n",
       "      <td>1628.05</td>\n",
       "      <td>1.57</td>\n",
       "    </tr>\n",
       "    <tr>\n",
       "      <th>SVR</th>\n",
       "      <td>0.06</td>\n",
       "      <td>0.06</td>\n",
       "      <td>1637.73</td>\n",
       "      <td>2.32</td>\n",
       "    </tr>\n",
       "    <tr>\n",
       "      <th>DummyRegressor</th>\n",
       "      <td>-0.01</td>\n",
       "      <td>-0.00</td>\n",
       "      <td>1692.72</td>\n",
       "      <td>0.03</td>\n",
       "    </tr>\n",
       "    <tr>\n",
       "      <th>KernelRidge</th>\n",
       "      <td>-1.11</td>\n",
       "      <td>-1.10</td>\n",
       "      <td>2449.13</td>\n",
       "      <td>2.60</td>\n",
       "    </tr>\n",
       "    <tr>\n",
       "      <th>GaussianProcessRegressor</th>\n",
       "      <td>-158.97</td>\n",
       "      <td>-157.93</td>\n",
       "      <td>21330.71</td>\n",
       "      <td>5.43</td>\n",
       "    </tr>\n",
       "  </tbody>\n",
       "</table>\n",
       "</div>"
      ],
      "text/plain": [
       "                               Adjusted R-Squared  R-Squared     RMSE  \\\n",
       "Model                                                                   \n",
       "GradientBoostingRegressor                    0.60       0.60  1069.83   \n",
       "HistGradientBoostingRegressor                0.57       0.58  1102.05   \n",
       "LGBMRegressor                                0.57       0.57  1104.08   \n",
       "MLPRegressor                                 0.57       0.57  1105.90   \n",
       "RandomForestRegressor                        0.54       0.54  1142.09   \n",
       "ExtraTreesRegressor                          0.54       0.54  1145.53   \n",
       "XGBRegressor                                 0.52       0.53  1165.97   \n",
       "KNeighborsRegressor                          0.52       0.52  1167.79   \n",
       "ARDRegression                                0.52       0.52  1168.93   \n",
       "BayesianRidge                                0.52       0.52  1169.15   \n",
       "RidgeCV                                      0.52       0.52  1169.15   \n",
       "Lasso                                        0.52       0.52  1169.15   \n",
       "LassoLarsIC                                  0.52       0.52  1169.16   \n",
       "Ridge                                        0.52       0.52  1169.17   \n",
       "TransformedTargetRegressor                   0.52       0.52  1169.18   \n",
       "LinearRegression                             0.52       0.52  1169.18   \n",
       "Lars                                         0.52       0.52  1169.18   \n",
       "LassoCV                                      0.52       0.52  1169.25   \n",
       "LassoLarsCV                                  0.52       0.52  1169.35   \n",
       "LarsCV                                       0.52       0.52  1169.35   \n",
       "OrthogonalMatchingPursuitCV                  0.52       0.52  1171.34   \n",
       "SGDRegressor                                 0.52       0.52  1171.48   \n",
       "HuberRegressor                               0.52       0.52  1172.50   \n",
       "PLSRegression                                0.52       0.52  1174.31   \n",
       "TheilSenRegressor                            0.51       0.52  1175.76   \n",
       "PassiveAggressiveRegressor                   0.51       0.51  1185.64   \n",
       "LassoLars                                    0.50       0.50  1190.89   \n",
       "BaggingRegressor                             0.50       0.50  1197.55   \n",
       "PoissonRegressor                             0.49       0.50  1200.42   \n",
       "ElasticNet                                   0.46       0.47  1234.70   \n",
       "CCA                                          0.44       0.44  1263.43   \n",
       "AdaBoostRegressor                            0.44       0.44  1265.41   \n",
       "GammaRegressor                               0.40       0.40  1308.53   \n",
       "ElasticNetCV                                 0.40       0.40  1309.79   \n",
       "TweedieRegressor                             0.39       0.40  1312.55   \n",
       "RANSACRegressor                              0.39       0.39  1320.53   \n",
       "LinearSVR                                    0.37       0.38  1336.26   \n",
       "PLSCanonical                                 0.36       0.37  1344.00   \n",
       "OrthogonalMatchingPursuit                    0.30       0.30  1412.02   \n",
       "DecisionTreeRegressor                        0.20       0.20  1510.73   \n",
       "ExtraTreeRegressor                           0.16       0.16  1547.46   \n",
       "NuSVR                                        0.07       0.07  1628.05   \n",
       "SVR                                          0.06       0.06  1637.73   \n",
       "DummyRegressor                              -0.01      -0.00  1692.72   \n",
       "KernelRidge                                 -1.11      -1.10  2449.13   \n",
       "GaussianProcessRegressor                  -158.97    -157.93 21330.71   \n",
       "\n",
       "                               Time Taken  \n",
       "Model                                      \n",
       "GradientBoostingRegressor            0.82  \n",
       "HistGradientBoostingRegressor        0.29  \n",
       "LGBMRegressor                        0.08  \n",
       "MLPRegressor                         5.73  \n",
       "RandomForestRegressor                2.44  \n",
       "ExtraTreesRegressor                  1.35  \n",
       "XGBRegressor                         0.40  \n",
       "KNeighborsRegressor                  0.14  \n",
       "ARDRegression                        0.15  \n",
       "BayesianRidge                        0.04  \n",
       "RidgeCV                              0.06  \n",
       "Lasso                                0.05  \n",
       "LassoLarsIC                          0.04  \n",
       "Ridge                                0.01  \n",
       "TransformedTargetRegressor           0.02  \n",
       "LinearRegression                     0.03  \n",
       "Lars                                 0.03  \n",
       "LassoCV                              0.25  \n",
       "LassoLarsCV                          0.13  \n",
       "LarsCV                               0.06  \n",
       "OrthogonalMatchingPursuitCV          0.03  \n",
       "SGDRegressor                         0.07  \n",
       "HuberRegressor                       0.06  \n",
       "PLSRegression                        0.02  \n",
       "TheilSenRegressor                    1.55  \n",
       "PassiveAggressiveRegressor           0.04  \n",
       "LassoLars                            0.05  \n",
       "BaggingRegressor                     0.25  \n",
       "PoissonRegressor                     0.05  \n",
       "ElasticNet                           0.04  \n",
       "CCA                                  0.02  \n",
       "AdaBoostRegressor                    0.31  \n",
       "GammaRegressor                       0.02  \n",
       "ElasticNetCV                         0.15  \n",
       "TweedieRegressor                     0.02  \n",
       "RANSACRegressor                      0.13  \n",
       "LinearSVR                            0.05  \n",
       "PLSCanonical                         0.02  \n",
       "OrthogonalMatchingPursuit            0.01  \n",
       "DecisionTreeRegressor                0.08  \n",
       "ExtraTreeRegressor                   0.05  \n",
       "NuSVR                                1.57  \n",
       "SVR                                  2.32  \n",
       "DummyRegressor                       0.03  \n",
       "KernelRidge                          2.60  \n",
       "GaussianProcessRegressor             5.43  "
      ]
     },
     "execution_count": 28,
     "metadata": {},
     "output_type": "execute_result"
    }
   ],
   "source": [
    "models"
   ]
  },
  {
   "cell_type": "code",
   "execution_count": 35,
   "id": "be17428d-f6ee-46ea-ad14-25cc09e56be4",
   "metadata": {},
   "outputs": [],
   "source": [
    "from sklearn.ensemble import GradientBoostingRegressor"
   ]
  },
  {
   "cell_type": "code",
   "execution_count": 36,
   "id": "4895354f-392c-4440-aff7-ede5fba420eb",
   "metadata": {},
   "outputs": [
    {
     "data": {
      "text/plain": [
       "GradientBoostingRegressor(random_state=0)"
      ]
     },
     "execution_count": 36,
     "metadata": {},
     "output_type": "execute_result"
    }
   ],
   "source": [
    "reg = GradientBoostingRegressor(random_state=0)\n",
    "reg.fit(X_train, y_train)"
   ]
  },
  {
   "cell_type": "code",
   "execution_count": 37,
   "id": "cd902181-0ae9-4e51-90a5-48b759e58e75",
   "metadata": {},
   "outputs": [
    {
     "data": {
      "text/plain": [
       "array([ 731.36751287,  413.29950126, 3241.36074729, ...,  510.79776872,\n",
       "       4125.06232224, 2351.6887308 ])"
      ]
     },
     "execution_count": 37,
     "metadata": {},
     "output_type": "execute_result"
    }
   ],
   "source": [
    "reg.predict(X_test)"
   ]
  },
  {
   "cell_type": "code",
   "execution_count": 38,
   "id": "b09d4bb0-7040-41fd-8ced-36468d425841",
   "metadata": {},
   "outputs": [
    {
     "data": {
      "text/plain": [
       "0.5994101057982341"
      ]
     },
     "execution_count": 38,
     "metadata": {},
     "output_type": "execute_result"
    }
   ],
   "source": [
    "reg.score(X_test, y_test)"
   ]
  },
  {
   "cell_type": "code",
   "execution_count": null,
   "id": "4af0dff1-b6ea-4c08-9d6a-148100dceef4",
   "metadata": {},
   "outputs": [],
   "source": []
  }
 ],
 "metadata": {
  "kernelspec": {
   "display_name": "Python 3 (ipykernel)",
   "language": "python",
   "name": "python3"
  },
  "language_info": {
   "codemirror_mode": {
    "name": "ipython",
    "version": 3
   },
   "file_extension": ".py",
   "mimetype": "text/x-python",
   "name": "python",
   "nbconvert_exporter": "python",
   "pygments_lexer": "ipython3",
   "version": "3.8.11"
  }
 },
 "nbformat": 4,
 "nbformat_minor": 5
}
